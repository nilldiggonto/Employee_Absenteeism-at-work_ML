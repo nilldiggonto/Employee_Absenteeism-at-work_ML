{
 "cells": [
  {
   "cell_type": "markdown",
   "metadata": {},
   "source": [
    "# PREDICTING ABSENTEEISM FROM WORK"
   ]
  },
  {
   "cell_type": "markdown",
   "metadata": {},
   "source": [
    "## PROBLEM\n",
    "\n",
    "* Trying to predict the absenteeism from work"
   ]
  },
  {
   "cell_type": "markdown",
   "metadata": {},
   "source": [
    "## Data\n",
    "* https://archive.ics.uci.edu/ml/datasets/Absenteeism+at+work"
   ]
  },
  {
   "cell_type": "markdown",
   "metadata": {},
   "source": [
    "## FEATURE\n",
    "* ID (Employee ID)\n",
    "* 2. Reason for absence (ICD).\n",
    "    Absences attested by the International Code of Diseases (ICD) stratified into 21 categories (I to XXI) as follows:\n",
    "\n",
    "    * I Certain infectious and parasitic diseases\n",
    "    * II Neoplasms\n",
    "    * III Diseases of the blood and blood-forming organs and certain disorders involving the immune mechanism\n",
    "    * IV Endocrine, nutritional and metabolic diseases\n",
    "    * V Mental and behavioural disorders\n",
    "    * VI Diseases of the nervous system\n",
    "    * VII Diseases of the eye and adnexa\n",
    "    * VIII Diseases of the ear and mastoid process\n",
    "    * IX Diseases of the circulatory system\n",
    "    * X Diseases of the respiratory system\n",
    "    * XI Diseases of the digestive system\n",
    "    * XII Diseases of the skin and subcutaneous tissue\n",
    "    * XIII Diseases of the musculoskeletal system and connective tissue\n",
    "    * XIV Diseases of the genitourinary system\n",
    "    * XV Pregnancy, childbirth and the puerperium\n",
    "    * XVI Certain conditions originating in the perinatal period\n",
    "    * XVII Congenital malformations, deformations and chromosomal abnormalities\n",
    "    * XVIII Symptoms, signs and abnormal clinical and laboratory findings, not elsewhere classified\n",
    "    * XIX Injury, poisoning and certain other consequences of external causes\n",
    "    * XX External causes of morbidity and mortality\n",
    "    * XXI Factors influencing health status and contact with health services.\n",
    "    * And 7 categories without (CID) patient follow-up (22), medical consultation (23), blood donation (24), laboratory examination (25), unjustified absence (26), physiotherapy (27), dental consultation (28)."
   ]
  },
  {
   "cell_type": "code",
   "execution_count": null,
   "metadata": {},
   "outputs": [],
   "source": []
  }
 ],
 "metadata": {
  "kernelspec": {
   "display_name": "Python 3",
   "language": "python",
   "name": "python3"
  },
  "language_info": {
   "codemirror_mode": {
    "name": "ipython",
    "version": 3
   },
   "file_extension": ".py",
   "mimetype": "text/x-python",
   "name": "python",
   "nbconvert_exporter": "python",
   "pygments_lexer": "ipython3",
   "version": "3.7.0"
  }
 },
 "nbformat": 4,
 "nbformat_minor": 2
}
